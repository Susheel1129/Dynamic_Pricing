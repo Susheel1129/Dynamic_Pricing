{
 "cells": [
  {
   "cell_type": "code",
   "execution_count": 2,
   "id": "6e9089c6-4d32-4623-9f88-d61a3980aff8",
   "metadata": {},
   "outputs": [
    {
     "name": "stdout",
     "output_type": "stream",
     "text": [
      "✅ Summary for Power BI Dashboard\n",
      "{'Total SKUs': 100, 'Total Inventory': np.int64(99557), 'Total Sales Units': np.int64(1619763), 'Avg Price': np.float64(1464.791125)}\n",
      "📦 Exported dashboard_summary.csv\n"
     ]
    }
   ],
   "source": [
    "# 05_summary_dashboard.ipynb\n",
    "\n",
    "import pandas as pd\n",
    "\n",
    "DATA_DIR = \"../data\"\n",
    "\n",
    "# Load processed outputs\n",
    "demand = pd.read_csv(f\"{DATA_DIR}/simulated_pricing_data.csv\")\n",
    "financial = pd.read_csv(f\"{DATA_DIR}/prices_advanced.csv\")\n",
    "inventory = pd.read_csv(f\"{DATA_DIR}/inventory.csv\")\n",
    "\n",
    "# Prepare aggregated metrics\n",
    "summary = {\n",
    "    'Total SKUs': demand['sku'].nunique(),\n",
    "    'Total Inventory': inventory['inventory'].sum(),\n",
    "    'Total Sales Units': demand['demand'].sum(),\n",
    "    'Avg Price': financial['our_new_price'].mean()\n",
    "}\n",
    "\n",
    "print(\"✅ Summary for Power BI Dashboard\")\n",
    "print(summary)\n",
    "\n",
    "# Export metrics to CSV for Power BI\n",
    "pd.DataFrame([summary]).to_csv(f\"{DATA_DIR}/dashboard_summary.csv\", index=False)\n",
    "print(\"📦 Exported dashboard_summary.csv\")\n"
   ]
  },
  {
   "cell_type": "code",
   "execution_count": null,
   "id": "74c0d615",
   "metadata": {},
   "outputs": [],
   "source": []
  }
 ],
 "metadata": {
  "kernelspec": {
   "display_name": "scrisk",
   "language": "python",
   "name": "scrisk"
  },
  "language_info": {
   "codemirror_mode": {
    "name": "ipython",
    "version": 3
   },
   "file_extension": ".py",
   "mimetype": "text/x-python",
   "name": "python",
   "nbconvert_exporter": "python",
   "pygments_lexer": "ipython3",
   "version": "3.11.11"
  }
 },
 "nbformat": 4,
 "nbformat_minor": 5
}
